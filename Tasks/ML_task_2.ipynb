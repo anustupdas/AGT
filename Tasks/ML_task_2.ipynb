{
 "cells": [
  {
   "cell_type": "code",
   "execution_count": 1,
   "metadata": {
    "collapsed": true
   },
   "outputs": [],
   "source": [
    "import pandas as pd\n",
    "import numpy as np\n",
    "\n",
    "\n",
    "## Set path\n",
    "path = 'C:/Users/PagolPoka/Desktop/AGT_Task/task/data/ml_02_data.csv'"
   ]
  },
  {
   "cell_type": "code",
   "execution_count": 2,
   "metadata": {
    "collapsed": true
   },
   "outputs": [],
   "source": [
    "## Function to load data\n",
    "def loadDatasetWithPandas(path):\n",
    "    # Reading the raw data from csv file\n",
    "    return pd.read_csv(path, sep=';')"
   ]
  },
  {
   "cell_type": "code",
   "execution_count": 12,
   "metadata": {
    "collapsed": false
   },
   "outputs": [
    {
     "name": "stdout",
     "output_type": "stream",
     "text": [
      "Most amount of money spent (yearly)\n",
      "Année de notification\n",
      "2013    5.167748e+07\n",
      "2014    4.324175e+07\n",
      "2015    3.624100e+07\n",
      "2016    5.062224e+07\n",
      "2017    2.143991e+08\n",
      "Name: Montant maximum H.T. ou Montant global et fofaitaire HT, dtype: float64\n",
      "\n",
      "month\n",
      "               NaN\n",
      "01    5.971417e+05\n",
      "02    5.199635e+05\n",
      "03    2.396937e+05\n",
      "04    7.726049e+05\n",
      "05    6.270050e+05\n",
      "06    4.319932e+05\n",
      "07    9.356350e+05\n",
      "08    4.247802e+05\n",
      "09    2.357211e+05\n",
      "10    9.510131e+05\n",
      "11    2.763303e+06\n",
      "12    9.141696e+05\n",
      "Name: Montant maximum H.T. ou Montant global et fofaitaire HT, dtype: float64\n",
      "Month in which most amount of money is spent on an average:  11\n"
     ]
    }
   ],
   "source": [
    "## Load the entire dataset into a data frame\n",
    "data = loadDatasetWithPandas(path)\n",
    "\n",
    "\n",
    "### How much money CASVP spends each year in the interval according to these contracts? ###\n",
    "\n",
    "## Most amount of money spent (yearly)\n",
    "moneySpent = data.groupby('Année de notification')['Montant maximum H.T. ou Montant global et fofaitaire HT'].sum()\n",
    "\n",
    "print(\"Most amount of money spent (yearly)\")\n",
    "print(moneySpent)\n",
    "print(\"\")\n",
    "### In which of the 12 months they spend the most money on average? ###\n",
    "\n",
    "## List of months\n",
    "mm_list = []\n",
    "\n",
    "mm = ''\n",
    "\n",
    "for index, row in data.iterrows():\n",
    "    #print(index, row['Date de signature'])\n",
    "    if type(row['Date de signature']) == np.float:\n",
    "        mm = ''\n",
    "    else:\n",
    "        mm = row['Date de signature'][5:7]\n",
    "        \n",
    "    mm_list.append(mm)\n",
    "\n",
    "## Add a new column to the dataset\n",
    "data['month'] = mm_list\n",
    "    \n",
    "## Most amount of money spent (monthly)\n",
    "mostAvg = data.groupby('month')['Montant maximum H.T. ou Montant global et fofaitaire HT'].mean()\n",
    "print(mostAvg)\n",
    "\n",
    "## Month in which most amount of money is spent on an average\n",
    "m = np.argmax(mostAvg)\n",
    "print(\"Month in which most amount of money is spent on an average: \", m)\n",
    "\n",
    "### In which day of the week they sign the most contracts? ###"
   ]
  },
  {
   "cell_type": "code",
   "execution_count": null,
   "metadata": {
    "collapsed": true
   },
   "outputs": [],
   "source": []
  }
 ],
 "metadata": {
  "anaconda-cloud": {},
  "kernelspec": {
   "display_name": "Python [default]",
   "language": "python",
   "name": "python3"
  },
  "language_info": {
   "codemirror_mode": {
    "name": "ipython",
    "version": 3
   },
   "file_extension": ".py",
   "mimetype": "text/x-python",
   "name": "python",
   "nbconvert_exporter": "python",
   "pygments_lexer": "ipython3",
   "version": "3.5.2"
  }
 },
 "nbformat": 4,
 "nbformat_minor": 1
}
