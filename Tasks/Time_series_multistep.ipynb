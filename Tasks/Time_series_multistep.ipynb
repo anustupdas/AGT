{
 "cells": [
  {
   "cell_type": "code",
   "execution_count": 198,
   "metadata": {
    "collapsed": false
   },
   "outputs": [],
   "source": [
    "# univariate multi-step lstm\n",
    "from math import sqrt\n",
    "from numpy import split\n",
    "from numpy import array\n",
    "from pandas import read_csv\n",
    "from sklearn.metrics import mean_squared_error\n",
    "from matplotlib import pyplot\n",
    "from keras.models import Sequential\n",
    "from keras.layers import Dense\n",
    "from keras.layers import Flatten\n",
    "from keras.layers import LSTM\n",
    "from keras.optimizers import SGD,RMSprop,adam\n",
    "import numpy as np\n",
    "from pandas import DataFrame\n",
    "from pandas import concat\n",
    "from keras.layers import Dropout\n",
    "from sklearn import svm\n",
    "from sklearn.svm import SVR\n",
    "import matplotlib.pyplot as plt\n",
    "\n",
    "data_path = 'C:/Users/PagolPoka/Desktop/AGT_Task/task/data/ml_01_data.csv'"
   ]
  },
  {
   "cell_type": "code",
   "execution_count": 63,
   "metadata": {
    "collapsed": false
   },
   "outputs": [
    {
     "name": "stdout",
     "output_type": "stream",
     "text": [
      "Dataset: \n",
      "Index(['Year', 'Name', 'Number of visitors (all days combined)'], dtype='object')\n"
     ]
    }
   ],
   "source": [
    "# load the new file\n",
    "dataset = read_csv(data_path, header=0, infer_datetime_format=True)\n",
    "print(\"Dataset: \")\n",
    "print(dataset.columns)"
   ]
  },
  {
   "cell_type": "code",
   "execution_count": 68,
   "metadata": {
    "collapsed": false
   },
   "outputs": [],
   "source": [
    "def series_to_supervised(data, n_in=1, n_out=1, dropnan=True):\n",
    "\t\"\"\"\n",
    "\tFrame a time series as a supervised learning dataset.\n",
    "\tArguments:\n",
    "\t\tdata: Sequence of observations as a list or NumPy array.\n",
    "\t\tn_in: Number of lag observations as input (X).\n",
    "\t\tn_out: Number of observations as output (y).\n",
    "\t\tdropnan: Boolean whether or not to drop rows with NaN values.\n",
    "\tReturns:\n",
    "\t\tPandas DataFrame of series framed for supervised learning.\n",
    "\t\"\"\"\n",
    "\tn_vars = 1 if type(data) is list else data.shape[1]\n",
    "\tdf = DataFrame(data)\n",
    "\tcols, names = list(), list()\n",
    "\t# input sequence (t-n, ... t-1)\n",
    "\tfor i in range(n_in, 0, -1):\n",
    "\t\tcols.append(df.shift(i))\n",
    "\t\tnames += [('var%d(t-%d)' % (j+1, i)) for j in range(n_vars)]\n",
    "\t# forecast sequence (t, t+1, ... t+n)\n",
    "\tfor i in range(0, n_out):\n",
    "\t\tcols.append(df.shift(-i))\n",
    "\t\tif i == 0:\n",
    "\t\t\tnames += [('var%d(t)' % (j+1)) for j in range(n_vars)]\n",
    "\t\telse:\n",
    "\t\t\tnames += [('var%d(t+%d)' % (j+1, i)) for j in range(n_vars)]\n",
    "\t# put it all together\n",
    "\tagg = concat(cols, axis=1)\n",
    "\tagg.columns = names\n",
    "\t# drop rows with NaN values\n",
    "\tif dropnan:\n",
    "\t\tagg.dropna(inplace=True)\n",
    "\treturn agg"
   ]
  },
  {
   "cell_type": "code",
   "execution_count": 71,
   "metadata": {
    "collapsed": false
   },
   "outputs": [
    {
     "name": "stdout",
     "output_type": "stream",
     "text": [
      "Train data shape:  (25, 1)\n",
      "Superviseddata: \n",
      "    var1(t-1)  var1(t)\n",
      "1     43000.0   143000\n",
      "2    143000.0   173000\n",
      "3    173000.0   206000\n",
      "4    206000.0   260000\n",
      "5    260000.0   268000\n",
      "6    268000.0   297000\n",
      "7    297000.0   324000\n",
      "8    324000.0   365000\n",
      "9    365000.0   355000\n",
      "10   355000.0   361000\n",
      "11   361000.0   369000\n",
      "12   369000.0   385000\n",
      "13   385000.0   385000\n",
      "14   385000.0   371000\n",
      "15   371000.0   385000\n",
      "16   385000.0   390000\n",
      "17   390000.0   382000\n",
      "18   382000.0   385000\n",
      "19   385000.0   379000\n",
      "20   379000.0   362000\n",
      "21   362000.0   415000\n",
      "22   415000.0   441000\n",
      "23   441000.0   496000\n",
      "24   496000.0   452000\n"
     ]
    }
   ],
   "source": [
    "\n",
    "X_Train = dataset.drop(['Year','Name'], axis=1)\n",
    "\n",
    "print(\"Train data shape: \", X_Train.shape)\n",
    "\n",
    "Superviseddata = series_to_supervised(X_Train)\n",
    "print(\"Superviseddata: \")\n",
    "print(Superviseddata)\n",
    "\n",
    "\n"
   ]
  },
  {
   "cell_type": "code",
   "execution_count": 212,
   "metadata": {
    "collapsed": false
   },
   "outputs": [
    {
     "name": "stdout",
     "output_type": "stream",
     "text": [
      "Train data shape:  (24, 1, 1)\n",
      "Train data shape:  (24, 1)\n"
     ]
    }
   ],
   "source": [
    "#**************Reshaping the Data for the Deep Learning model. LSTM expects a tesor of shape : [DataSample, TimeSteps, Features]*************\n",
    "sequences = 1 #Lenght of each timestep\n",
    "result = []\n",
    "result_y =[]\n",
    "\n",
    "\n",
    "X_Train = Superviseddata.drop(['var1(t)'], axis=1)\n",
    "Y_Train = Superviseddata.drop(['var1(t-1)'], axis=1)\n",
    "\n",
    "\n",
    "\n",
    "\n",
    "# for loop will walk for each of the total rows\n",
    "for i in range(0,len(X_Train)):\n",
    "    # every group must have the same length, so if current loop position i + number \n",
    "    # of sequences is higher than df length, breaks\n",
    "    if i+sequences <= len(X_Train):\n",
    "        # this will add into the list as [[R1a,R1b...R1t],[R2a,R2b...R2t],...[R5a,R5b...R5t]]\n",
    "        result.append(X_Train[i:i+sequences].values)     \n",
    "\n",
    "# Converting to array + keras takes float32 better than 64\n",
    "train_x = np.array(result).astype('float32')\n",
    "\n",
    "\n",
    "train_y = Y_Train\n",
    "\n",
    "print(\"Train data shape: \", train_x.shape)\n",
    "print(\"Train data shape: \", train_y.shape)\n",
    "\n",
    "\n"
   ]
  },
  {
   "cell_type": "code",
   "execution_count": 137,
   "metadata": {
    "collapsed": true
   },
   "outputs": [],
   "source": [
    "# train the model\n",
    "def build_model(train_x, train_y, n_input):\n",
    "    \n",
    "# define parameters\n",
    "    verbose, epochs, batch_size = 1, 70, 16\n",
    "    n_timesteps, n_features, n_outputs = train_x.shape[1], train_x.shape[2], train_y.shape[1]\n",
    "    \n",
    "    print(n_timesteps)\n",
    "    print(n_features)\n",
    "    print(n_outputs)\n",
    "    # define model\n",
    "    model = Sequential()\n",
    "    model.add(LSTM(20, activation='relu', input_shape=(n_timesteps, n_features)))\n",
    "    model.add(Dense(10, activation='relu'))\n",
    "    model.add(Dense(n_outputs))\n",
    "    model.compile(loss='mse', optimizer='adam')\n",
    "    \n",
    "    model.summary()\n",
    "    model.fit(train_x, train_y, epochs=1200, batch_size=batch_size, verbose=verbose)\n",
    "    return model"
   ]
  },
  {
   "cell_type": "code",
   "execution_count": 152,
   "metadata": {
    "collapsed": false
   },
   "outputs": [],
   "source": [
    "# Design a LSTM model for training the multivariate timeseries data.\n",
    "def build_model1(train_x, train_y, n_input):\n",
    "    \n",
    "# define parameters\n",
    "    verbose, epochs, batch_size = 1, 70, 16\n",
    "    n_timesteps, n_features, n_outputs = train_x.shape[1], train_x.shape[2], train_y.shape[1]\n",
    "    learning_rate = 0.01\n",
    "\n",
    "    Adam = adam(lr= learning_rate)\n",
    "    model_LSTM = Sequential()\n",
    "    model_LSTM.add(LSTM(32, input_shape=(n_timesteps, n_features)))\n",
    "    model_LSTM.add(Dropout(0.5))\n",
    "    model_LSTM.add(Dense(100, activation='relu'))\n",
    "    model_LSTM.add(Dense(n_outputs,activation='softmax'))\n",
    "    model_LSTM.compile(loss='mse', optimizer=Adam,metrics=['accuracy'])\n",
    "\n",
    "    model_LSTM.summary()\n",
    "    model_LSTM.fit(train_x, train_y, epochs=100, batch_size=batch_size, verbose=verbose)\n",
    "    return model"
   ]
  },
  {
   "cell_type": "code",
   "execution_count": 153,
   "metadata": {
    "collapsed": false
   },
   "outputs": [
    {
     "name": "stdout",
     "output_type": "stream",
     "text": [
      "_________________________________________________________________\n",
      "Layer (type)                 Output Shape              Param #   \n",
      "=================================================================\n",
      "lstm_28 (LSTM)               (None, 32)                4352      \n",
      "_________________________________________________________________\n",
      "dropout_5 (Dropout)          (None, 32)                0         \n",
      "_________________________________________________________________\n",
      "dense_52 (Dense)             (None, 100)               3300      \n",
      "_________________________________________________________________\n",
      "dense_53 (Dense)             (None, 1)                 101       \n",
      "=================================================================\n",
      "Total params: 7,753\n",
      "Trainable params: 7,753\n",
      "Non-trainable params: 0\n",
      "_________________________________________________________________\n",
      "Epoch 1/100\n",
      "24/24 [==============================] - 3s 130ms/step - loss: 127975598762.6667 - acc: 0.0000e+00\n",
      "Epoch 2/100\n",
      "24/24 [==============================] - 0s 213us/step - loss: 127975604224.0000 - acc: 0.0000e+00\n",
      "Epoch 3/100\n",
      "24/24 [==============================] - 0s 256us/step - loss: 127975593301.3333 - acc: 0.0000e+00\n",
      "Epoch 4/100\n",
      "24/24 [==============================] - 0s 380us/step - loss: 127975598762.6667 - acc: 0.0000e+00\n",
      "Epoch 5/100\n",
      "24/24 [==============================] - 0s 333us/step - loss: 127975593301.3333 - acc: 0.0000e+00\n",
      "Epoch 6/100\n",
      "24/24 [==============================] - 0s 356us/step - loss: 127975593301.3333 - acc: 0.0000e+00\n",
      "Epoch 7/100\n",
      "24/24 [==============================] - 0s 338us/step - loss: 127975598762.6667 - acc: 0.0000e+00\n",
      "Epoch 8/100\n",
      "24/24 [==============================] - 0s 304us/step - loss: 127975601493.3333 - acc: 0.0000e+00\n",
      "Epoch 9/100\n",
      "24/24 [==============================] - 0s 296us/step - loss: 127975596032.0000 - acc: 0.0000e+00\n",
      "Epoch 10/100\n",
      "24/24 [==============================] - 0s 372us/step - loss: 127975593301.3333 - acc: 0.0000e+00\n",
      "Epoch 11/100\n",
      "24/24 [==============================] - 0s 120us/step - loss: 127975593301.3333 - acc: 0.0000e+00\n",
      "Epoch 12/100\n",
      "24/24 [==============================] - 0s 318us/step - loss: 127975593301.3333 - acc: 0.0000e+00\n",
      "Epoch 13/100\n",
      "24/24 [==============================] - 0s 195us/step - loss: 127975593301.3333 - acc: 0.0000e+00\n",
      "Epoch 14/100\n",
      "24/24 [==============================] - 0s 208us/step - loss: 127975596032.0000 - acc: 0.0000e+00\n",
      "Epoch 15/100\n",
      "24/24 [==============================] - 0s 435us/step - loss: 127975598762.6667 - acc: 0.0000e+00\n",
      "Epoch 16/100\n",
      "24/24 [==============================] - 0s 395us/step - loss: 127975596032.0000 - acc: 0.0000e+00\n",
      "Epoch 17/100\n",
      "24/24 [==============================] - 0s 212us/step - loss: 127975598762.6667 - acc: 0.0000e+00\n",
      "Epoch 18/100\n",
      "24/24 [==============================] - 0s 253us/step - loss: 127975593301.3333 - acc: 0.0000e+00\n",
      "Epoch 19/100\n",
      "24/24 [==============================] - 0s 366us/step - loss: 127975598762.6667 - acc: 0.0000e+00\n",
      "Epoch 20/100\n",
      "24/24 [==============================] - 0s 371us/step - loss: 127975598762.6667 - acc: 0.0000e+00\n",
      "Epoch 21/100\n",
      "24/24 [==============================] - 0s 363us/step - loss: 127975598762.6667 - acc: 0.0000e+00\n",
      "Epoch 22/100\n",
      "24/24 [==============================] - 0s 168us/step - loss: 127975593301.3333 - acc: 0.0000e+00\n",
      "Epoch 23/100\n",
      "24/24 [==============================] - 0s 140us/step - loss: 127975596032.0000 - acc: 0.0000e+00\n",
      "Epoch 24/100\n",
      "24/24 [==============================] - 0s 167us/step - loss: 127975598762.6667 - acc: 0.0000e+00\n",
      "Epoch 25/100\n",
      "24/24 [==============================] - 0s 283us/step - loss: 127975598762.6667 - acc: 0.0000e+00\n",
      "Epoch 26/100\n",
      "24/24 [==============================] - 0s 208us/step - loss: 127975593301.3333 - acc: 0.0000e+00\n",
      "Epoch 27/100\n",
      "24/24 [==============================] - 0s 301us/step - loss: 127975598762.6667 - acc: 0.0000e+00\n",
      "Epoch 28/100\n",
      "24/24 [==============================] - 0s 620us/step - loss: 127975593301.3333 - acc: 0.0000e+00\n",
      "Epoch 29/100\n",
      "24/24 [==============================] - 0s 334us/step - loss: 127975598762.6667 - acc: 0.0000e+00\n",
      "Epoch 30/100\n",
      "24/24 [==============================] - 0s 344us/step - loss: 127975593301.3333 - acc: 0.0000e+00\n",
      "Epoch 31/100\n",
      "24/24 [==============================] - 0s 428us/step - loss: 127975598762.6667 - acc: 0.0000e+00\n",
      "Epoch 32/100\n",
      "24/24 [==============================] - 0s 337us/step - loss: 127975593301.3333 - acc: 0.0000e+00\n",
      "Epoch 33/100\n",
      "24/24 [==============================] - 0s 725us/step - loss: 127975598762.6667 - acc: 0.0000e+00\n",
      "Epoch 34/100\n",
      "24/24 [==============================] - 0s 571us/step - loss: 127975598762.6667 - acc: 0.0000e+00\n",
      "Epoch 35/100\n",
      "24/24 [==============================] - 0s 209us/step - loss: 127975596032.0000 - acc: 0.0000e+00\n",
      "Epoch 36/100\n",
      "24/24 [==============================] - 0s 377us/step - loss: 127975598762.6667 - acc: 0.0000e+00\n",
      "Epoch 37/100\n",
      "24/24 [==============================] - 0s 378us/step - loss: 127975598762.6667 - acc: 0.0000e+00\n",
      "Epoch 38/100\n",
      "24/24 [==============================] - 0s 307us/step - loss: 127975598762.6667 - acc: 0.0000e+00\n",
      "Epoch 39/100\n",
      "24/24 [==============================] - 0s 381us/step - loss: 127975598762.6667 - acc: 0.0000e+00\n",
      "Epoch 40/100\n",
      "24/24 [==============================] - 0s 309us/step - loss: 127975598762.6667 - acc: 0.0000e+00\n",
      "Epoch 41/100\n",
      "24/24 [==============================] - 0s 377us/step - loss: 127975604224.0000 - acc: 0.0000e+00\n",
      "Epoch 42/100\n",
      "24/24 [==============================] - 0s 329us/step - loss: 127975601493.3333 - acc: 0.0000e+00\n",
      "Epoch 43/100\n",
      "24/24 [==============================] - 0s 351us/step - loss: 127975596032.0000 - acc: 0.0000e+00\n",
      "Epoch 44/100\n",
      "24/24 [==============================] - 0s 249us/step - loss: 127975596032.0000 - acc: 0.0000e+00\n",
      "Epoch 45/100\n",
      "24/24 [==============================] - 0s 252us/step - loss: 127975598762.6667 - acc: 0.0000e+00\n",
      "Epoch 46/100\n",
      "24/24 [==============================] - 0s 468us/step - loss: 127975601493.3333 - acc: 0.0000e+00\n",
      "Epoch 47/100\n",
      "24/24 [==============================] - 0s 341us/step - loss: 127975587840.0000 - acc: 0.0000e+00\n",
      "Epoch 48/100\n",
      "24/24 [==============================] - 0s 334us/step - loss: 127975593301.3333 - acc: 0.0000e+00\n",
      "Epoch 49/100\n",
      "24/24 [==============================] - 0s 377us/step - loss: 127975593301.3333 - acc: 0.0000e+00\n",
      "Epoch 50/100\n",
      "24/24 [==============================] - 0s 312us/step - loss: 127975593301.3333 - acc: 0.0000e+00\n",
      "Epoch 51/100\n",
      "24/24 [==============================] - 0s 333us/step - loss: 127975598762.6667 - acc: 0.0000e+00\n",
      "Epoch 52/100\n",
      "24/24 [==============================] - 0s 375us/step - loss: 127975596032.0000 - acc: 0.0000e+00\n",
      "Epoch 53/100\n",
      "24/24 [==============================] - 0s 317us/step - loss: 127975596032.0000 - acc: 0.0000e+00\n",
      "Epoch 54/100\n",
      "24/24 [==============================] - 0s 366us/step - loss: 127975596032.0000 - acc: 0.0000e+00\n",
      "Epoch 55/100\n",
      "24/24 [==============================] - 0s 333us/step - loss: 127975601493.3333 - acc: 0.0000e+00\n",
      "Epoch 56/100\n",
      "24/24 [==============================] - 0s 379us/step - loss: 127975593301.3333 - acc: 0.0000e+00\n",
      "Epoch 57/100\n",
      "24/24 [==============================] - 0s 374us/step - loss: 127975593301.3333 - acc: 0.0000e+00\n",
      "Epoch 58/100\n",
      "24/24 [==============================] - 0s 488us/step - loss: 127975590570.6667 - acc: 0.0000e+00\n",
      "Epoch 59/100\n",
      "24/24 [==============================] - 0s 806us/step - loss: 127975593301.3333 - acc: 0.0000e+00\n",
      "Epoch 60/100\n",
      "24/24 [==============================] - 0s 416us/step - loss: 127975598762.6667 - acc: 0.0000e+00\n",
      "Epoch 61/100\n",
      "24/24 [==============================] - 0s 2ms/step - loss: 127975593301.3333 - acc: 0.0000e+00\n",
      "Epoch 62/100\n",
      "24/24 [==============================] - 0s 490us/step - loss: 127975596032.0000 - acc: 0.0000e+00\n",
      "Epoch 63/100\n",
      "24/24 [==============================] - 0s 424us/step - loss: 127975601493.3333 - acc: 0.0000e+00\n",
      "Epoch 64/100\n",
      "24/24 [==============================] - 0s 815us/step - loss: 127975596032.0000 - acc: 0.0000e+00\n",
      "Epoch 65/100\n",
      "24/24 [==============================] - 0s 284us/step - loss: 127975593301.3333 - acc: 0.0000e+00\n",
      "Epoch 66/100\n",
      "24/24 [==============================] - 0s 283us/step - loss: 127975593301.3333 - acc: 0.0000e+00\n",
      "Epoch 67/100\n",
      "24/24 [==============================] - 0s 326us/step - loss: 127975596032.0000 - acc: 0.0000e+00\n",
      "Epoch 68/100\n",
      "24/24 [==============================] - 0s 378us/step - loss: 127975593301.3333 - acc: 0.0000e+00\n",
      "Epoch 69/100\n",
      "24/24 [==============================] - 0s 405us/step - loss: 127975593301.3333 - acc: 0.0000e+00\n",
      "Epoch 70/100\n",
      "24/24 [==============================] - 0s 339us/step - loss: 127975596032.0000 - acc: 0.0000e+00\n",
      "Epoch 71/100\n",
      "24/24 [==============================] - 0s 276us/step - loss: 127975593301.3333 - acc: 0.0000e+00\n",
      "Epoch 72/100\n",
      "24/24 [==============================] - 0s 453us/step - loss: 127975598762.6667 - acc: 0.0000e+00\n",
      "Epoch 73/100\n",
      "24/24 [==============================] - 0s 167us/step - loss: 127975598762.6667 - acc: 0.0000e+00\n",
      "Epoch 74/100\n",
      "24/24 [==============================] - 0s 388us/step - loss: 127975598762.6667 - acc: 0.0000e+00\n",
      "Epoch 75/100\n",
      "24/24 [==============================] - 0s 399us/step - loss: 127975593301.3333 - acc: 0.0000e+00\n",
      "Epoch 76/100\n",
      "24/24 [==============================] - 0s 339us/step - loss: 127975593301.3333 - acc: 0.0000e+00\n",
      "Epoch 77/100\n",
      "24/24 [==============================] - 0s 309us/step - loss: 127975596032.0000 - acc: 0.0000e+00\n",
      "Epoch 78/100\n",
      "24/24 [==============================] - 0s 208us/step - loss: 127975593301.3333 - acc: 0.0000e+00\n",
      "Epoch 79/100\n",
      "24/24 [==============================] - 0s 437us/step - loss: 127975593301.3333 - acc: 0.0000e+00\n",
      "Epoch 80/100\n",
      "24/24 [==============================] - 0s 167us/step - loss: 127975593301.3333 - acc: 0.0000e+00\n",
      "Epoch 81/100\n",
      "24/24 [==============================] - 0s 313us/step - loss: 127975598762.6667 - acc: 0.0000e+00\n",
      "Epoch 82/100\n",
      "24/24 [==============================] - 0s 333us/step - loss: 127975598762.6667 - acc: 0.0000e+00\n",
      "Epoch 83/100\n",
      "24/24 [==============================] - 0s 491us/step - loss: 127975598762.6667 - acc: 0.0000e+00\n",
      "Epoch 84/100\n",
      "24/24 [==============================] - 0s 465us/step - loss: 127975593301.3333 - acc: 0.0000e+00\n",
      "Epoch 85/100\n",
      "24/24 [==============================] - 0s 376us/step - loss: 127975598762.6667 - acc: 0.0000e+00\n",
      "Epoch 86/100\n",
      "24/24 [==============================] - 0s 338us/step - loss: 127975598762.6667 - acc: 0.0000e+00\n",
      "Epoch 87/100\n",
      "24/24 [==============================] - 0s 299us/step - loss: 127975598762.6667 - acc: 0.0000e+00\n",
      "Epoch 88/100\n",
      "24/24 [==============================] - 0s 335us/step - loss: 127975596032.0000 - acc: 0.0000e+00\n",
      "Epoch 89/100\n",
      "24/24 [==============================] - 0s 167us/step - loss: 127975593301.3333 - acc: 0.0000e+00\n",
      "Epoch 90/100\n",
      "24/24 [==============================] - 0s 254us/step - loss: 127975593301.3333 - acc: 0.0000e+00\n",
      "Epoch 91/100\n",
      "24/24 [==============================] - 0s 340us/step - loss: 127975587840.0000 - acc: 0.0000e+00\n",
      "Epoch 92/100\n",
      "24/24 [==============================] - 0s 503us/step - loss: 127975598762.6667 - acc: 0.0000e+00\n",
      "Epoch 93/100\n",
      "24/24 [==============================] - 0s 150us/step - loss: 127975593301.3333 - acc: 0.0000e+00\n",
      "Epoch 94/100\n",
      "24/24 [==============================] - 0s 303us/step - loss: 127975598762.6667 - acc: 0.0000e+00\n",
      "Epoch 95/100\n",
      "24/24 [==============================] - 0s 333us/step - loss: 127975598762.6667 - acc: 0.0000e+00\n",
      "Epoch 96/100\n",
      "24/24 [==============================] - 0s 166us/step - loss: 127975601493.3333 - acc: 0.0000e+00\n",
      "Epoch 97/100\n",
      "24/24 [==============================] - 0s 209us/step - loss: 127975601493.3333 - acc: 0.0000e+00\n",
      "Epoch 98/100\n",
      "24/24 [==============================] - 0s 209us/step - loss: 127975598762.6667 - acc: 0.0000e+00\n",
      "Epoch 99/100\n",
      "24/24 [==============================] - 0s 333us/step - loss: 127975593301.3333 - acc: 0.0000e+00\n",
      "Epoch 100/100\n",
      "24/24 [==============================] - 0s 371us/step - loss: 127975601493.3333 - acc: 0.0000e+00\n"
     ]
    }
   ],
   "source": [
    "model = build_model1(train_x, train_y, 1)\n",
    "# fit network\n"
   ]
  },
  {
   "cell_type": "code",
   "execution_count": 213,
   "metadata": {
    "collapsed": false
   },
   "outputs": [],
   "source": [
    "# Fit regression model\n",
    "svr_rbf = SVR(kernel='linear', C=100, gamma=0.1, epsilon=.1)"
   ]
  },
  {
   "cell_type": "code",
   "execution_count": 214,
   "metadata": {
    "collapsed": false
   },
   "outputs": [
    {
     "name": "stderr",
     "output_type": "stream",
     "text": [
      "C:\\Users\\PagolPoka\\Anaconda3\\lib\\site-packages\\sklearn\\svm\\base.py:216: DataConversionWarning: A column-vector y was passed when a 1d array was expected. Please change the shape of y to (n_samples, ), for example using ravel().\n",
      "  return column_or_1d(y, warn=True).astype(np.float64)\n"
     ]
    }
   ],
   "source": [
    "y_rbf = svr_rbf.fit(X_Train, Y_Train)"
   ]
  },
  {
   "cell_type": "code",
   "execution_count": 215,
   "metadata": {
    "collapsed": false
   },
   "outputs": [
    {
     "name": "stdout",
     "output_type": "stream",
     "text": [
      "SVR(C=100, cache_size=200, coef0=0.0, degree=3, epsilon=0.1, gamma=0.1,\n",
      "  kernel='linear', max_iter=-1, shrinking=True, tol=0.001, verbose=False)\n"
     ]
    }
   ],
   "source": [
    "print(y_rbf)"
   ]
  },
  {
   "cell_type": "code",
   "execution_count": 249,
   "metadata": {
    "collapsed": false
   },
   "outputs": [
    {
     "name": "stdout",
     "output_type": "stream",
     "text": [
      "452000\n"
     ]
    }
   ],
   "source": [
    "attendence = 452000\n",
    "print(attendence)"
   ]
  },
  {
   "cell_type": "code",
   "execution_count": 273,
   "metadata": {
    "collapsed": false
   },
   "outputs": [
    {
     "name": "stdout",
     "output_type": "stream",
     "text": [
      "[1993, 1994, 1995, 1996, 1997, 1998, 1999, 2000, 2001, 2002, 2003, 2004, 2005, 2006, 2007, 2008, 2009, 2010, 2011, 2012, 2013, 2014, 2015, 2016, 2017, 2018, 2019, 2020, 2021, 2022, 2023, 2024, 2025]\n",
      "25\n"
     ]
    }
   ],
   "source": [
    "Year = []\n",
    "Attendence = []\n",
    "for year in range(1993,2026):\n",
    "    Year.append(year)\n",
    "print(Year)\n",
    "\n",
    "crowd = dataset.drop(['Year','Name'], axis=1)\n",
    "for i in crowd.values:\n",
    "    Attendence.append(i)\n",
    "\n",
    "print(len(Attendence))"
   ]
  },
  {
   "cell_type": "code",
   "execution_count": 274,
   "metadata": {
    "collapsed": false
   },
   "outputs": [
    {
     "name": "stdout",
     "output_type": "stream",
     "text": [
      "2018 [582290.67686585]\n",
      "2019 [562960.29405335]\n",
      "2020 [565828.21592835]\n",
      "2021 [565402.71592835]\n",
      "2022 [565465.85655335]\n",
      "2023 [565456.48155335]\n",
      "2024 [565457.87217835]\n",
      "2025 [565457.66905335]\n"
     ]
    },
    {
     "name": "stderr",
     "output_type": "stream",
     "text": [
      "C:\\Users\\PagolPoka\\Anaconda3\\lib\\site-packages\\sklearn\\utils\\validation.py:386: DeprecationWarning: Passing 1d arrays as data is deprecated in 0.17 and willraise ValueError in 0.19. Reshape your data either using X.reshape(-1, 1) if your data has a single feature or X.reshape(1, -1) if it contains a single sample.\n",
      "  DeprecationWarning)\n",
      "C:\\Users\\PagolPoka\\Anaconda3\\lib\\site-packages\\sklearn\\utils\\validation.py:386: DeprecationWarning: Passing 1d arrays as data is deprecated in 0.17 and willraise ValueError in 0.19. Reshape your data either using X.reshape(-1, 1) if your data has a single feature or X.reshape(1, -1) if it contains a single sample.\n",
      "  DeprecationWarning)\n",
      "C:\\Users\\PagolPoka\\Anaconda3\\lib\\site-packages\\sklearn\\utils\\validation.py:386: DeprecationWarning: Passing 1d arrays as data is deprecated in 0.17 and willraise ValueError in 0.19. Reshape your data either using X.reshape(-1, 1) if your data has a single feature or X.reshape(1, -1) if it contains a single sample.\n",
      "  DeprecationWarning)\n",
      "C:\\Users\\PagolPoka\\Anaconda3\\lib\\site-packages\\sklearn\\utils\\validation.py:386: DeprecationWarning: Passing 1d arrays as data is deprecated in 0.17 and willraise ValueError in 0.19. Reshape your data either using X.reshape(-1, 1) if your data has a single feature or X.reshape(1, -1) if it contains a single sample.\n",
      "  DeprecationWarning)\n",
      "C:\\Users\\PagolPoka\\Anaconda3\\lib\\site-packages\\sklearn\\utils\\validation.py:386: DeprecationWarning: Passing 1d arrays as data is deprecated in 0.17 and willraise ValueError in 0.19. Reshape your data either using X.reshape(-1, 1) if your data has a single feature or X.reshape(1, -1) if it contains a single sample.\n",
      "  DeprecationWarning)\n",
      "C:\\Users\\PagolPoka\\Anaconda3\\lib\\site-packages\\sklearn\\utils\\validation.py:386: DeprecationWarning: Passing 1d arrays as data is deprecated in 0.17 and willraise ValueError in 0.19. Reshape your data either using X.reshape(-1, 1) if your data has a single feature or X.reshape(1, -1) if it contains a single sample.\n",
      "  DeprecationWarning)\n",
      "C:\\Users\\PagolPoka\\Anaconda3\\lib\\site-packages\\sklearn\\utils\\validation.py:386: DeprecationWarning: Passing 1d arrays as data is deprecated in 0.17 and willraise ValueError in 0.19. Reshape your data either using X.reshape(-1, 1) if your data has a single feature or X.reshape(1, -1) if it contains a single sample.\n",
      "  DeprecationWarning)\n"
     ]
    }
   ],
   "source": [
    "attendence = 452000\n",
    "\n",
    "for year in range(2018,2026):\n",
    "    x = y_rbf.predict(attendence)\n",
    "    print(year,x)\n",
    "    Attendence.append(x)\n",
    "    attendence = x"
   ]
  },
  {
   "cell_type": "code",
   "execution_count": 275,
   "metadata": {
    "collapsed": false
   },
   "outputs": [
    {
     "name": "stdout",
     "output_type": "stream",
     "text": [
      "33\n"
     ]
    }
   ],
   "source": [
    "print(len(Attendence))"
   ]
  },
  {
   "cell_type": "code",
   "execution_count": 279,
   "metadata": {
    "collapsed": false
   },
   "outputs": [
    {
     "data": {
      "image/png": "[encoded data removed]",
      "text/plain": [
       "<matplotlib.figure.Figure at 0x1f03f7dd978>"
      ]
     },
     "metadata": {},
     "output_type": "display_data"
    }
   ],
   "source": [
    "xc=Year\n",
    "\n",
    "plt.figure(1,figsize=(10,8))\n",
    "plt.plot(xc,Attendence)\n",
    "plt.xlabel('Year')\n",
    "plt.ylabel('Attendence')\n",
    "plt.title('Predicted Attendence')\n",
    "plt.grid(True)\n",
    "plt.legend(['attendence'], loc=10, bbox_to_anchor=(0.5, 0., 0.5, 0.5))\n",
    "#print plt.style.available # use bmh, classic,ggplot for big pictures\n",
    "plt.style.use(['classic'])\n",
    "\n",
    "plt.show()"
   ]
  },
  {
   "cell_type": "code",
   "execution_count": null,
   "metadata": {
    "collapsed": true
   },
   "outputs": [],
   "source": []
  }
 ],
 "metadata": {
  "anaconda-cloud": {},
  "kernelspec": {
   "display_name": "Python [default]",
   "language": "python",
   "name": "python3"
  },
  "language_info": {
   "codemirror_mode": {
    "name": "ipython",
    "version": 3
   },
   "file_extension": ".py",
   "mimetype": "text/x-python",
   "name": "python",
   "nbconvert_exporter": "python",
   "pygments_lexer": "ipython3",
   "version": "3.5.2"
  }
 },
 "nbformat": 4,
 "nbformat_minor": 1
}
